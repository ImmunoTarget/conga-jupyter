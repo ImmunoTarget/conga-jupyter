{
 "cells": [
  {
   "cell_type": "code",
   "execution_count": null,
   "id": "d1fce718-af2a-495b-96f5-1c20352caf70",
   "metadata": {},
   "outputs": [],
   "source": [
    "import os\n",
    "import scanpy as sc\n",
    "import pandas as pd\n",
    "import os\n",
    "import conga\n",
    "import glob\n",
    "import re\n",
    "# %load_ext rpy2.ipython\n",
    "\n",
    "import sys\n",
    "sys.path.append('/home/jovyan/conga/my_scripts/python/')"
   ]
  },
  {
   "cell_type": "code",
   "execution_count": null,
   "id": "162b7ee9-132a-4b15-a4a3-80a848ce0a6f",
   "metadata": {},
   "outputs": [],
   "source": [
    "experiments_dir = \"/home/jovyan/conga/data/20118016/\"\n",
    "\n",
    "# Change the working directory\n",
    "os.chdir(experiments_dir)\n",
    "\n",
    "tcr_meta = [experiments_dir + 'raw/tcr_meta_nil.csv',\n",
    "            experiments_dir + 'raw/tcr_meta_til.csv',\n",
    "            experiments_dir + 'raw/tcr_meta_pbl.csv',\n",
    "            experiments_dir + 'raw/tcr_meta_sample1.csv',\n",
    "            experiments_dir + 'raw/tcr_meta_sample2.csv',\n",
    "            experiments_dir + 'raw/tcr_meta_sample3.csv']\n",
    "\n",
    "h5_files = [experiments_dir + 'raw/nil_filtered_feature_bc_matrix.h5',\n",
    "            experiments_dir + 'raw/til_filtered_feature_bc_matrix.h5',\n",
    "            experiments_dir + 'raw/pbl_filtered_feature_bc_matrix.h5',\n",
    "            experiments_dir + 'raw/sample1_filtered_feature_bc_matrix.h5',\n",
    "            experiments_dir + 'raw/sample2_filtered_feature_bc_matrix.h5',\n",
    "            experiments_dir + 'raw/sample3_filtered_feature_bc_matrix.h5']\n",
    "\n",
    "results_dirs = ['results_nil',\n",
    "                'results_til',\n",
    "                'results_pbl',\n",
    "                'results_sample1',\n",
    "                'results_sample2',\n",
    "                'results_sample3']"
   ]
  },
  {
   "cell_type": "code",
   "execution_count": null,
   "id": "9571de23-c4d5-4102-bcc7-e8567cda9444",
   "metadata": {},
   "outputs": [],
   "source": [
    "from make_conga_clone import process_tcr\n",
    "\n",
    "clones_files = []\n",
    "\n",
    "for tcr, results in zip(tcr_meta, results_dirs):\n",
    "    clones_file = process_tcr(tcr, results_dir=results, perform_kpca=\"auto\")\n",
    "    clones_files.append(clones_file)"
   ]
  },
  {
   "cell_type": "code",
   "execution_count": null,
   "id": "5d74f42f-5783-494a-9d27-94b1c1db1d8f",
   "metadata": {},
   "outputs": [],
   "source": [
    "# %%R -i clones_files -i h5_files\n",
    "\n",
    "# source('/home/jovyan/conga/scripts/R/conga_seurat.R')\n",
    "\n",
    "# # Initialize a list to store the merged counts matrices\n",
    "# merged_counts_matrix_files <- list()\n",
    "\n",
    "# # Ensure that the lengths of both lists are the same\n",
    "# if(length(clones_files) != length(h5_files)) {\n",
    "#     stop(\"The number of clone files and H5 files must be the same.\")\n",
    "# }\n",
    "\n",
    "# for (i in 1:length(clones_files)) {\n",
    "#     # Get the current clone file and corresponding H5 file\n",
    "#     current_clone_file <- clones_files[i]\n",
    "#     current_h5_file <- h5_files[i]\n",
    "\n",
    "#     # Process the current pair of files\n",
    "#     temp_matrix <- process_seurat_data(current_clone_file, current_h5_file)\n",
    "    \n",
    "#     # Store the result in the list\n",
    "#     merged_counts_matrix_files[[i]] <- temp_matrix\n",
    "# }\n",
    "\n",
    "# # # #merged_counts_matrix_files now contains a separate matrix for each pair of clone file and H5 file\n"
   ]
  },
  {
   "cell_type": "code",
   "execution_count": null,
   "id": "ddfe8750-7f31-49d5-a035-49273dc81e8c",
   "metadata": {},
   "outputs": [],
   "source": [
    "# adata_list = list()\n",
    "\n",
    "# for file in h5_files:\n",
    "\n",
    "#     split_fn = file.split('_')\n",
    "\n",
    "#     sample_name = f'{split_fn[1]}_{split_fn[2]}'\n",
    "\n",
    "#     clones_file = f'{sample_name}_clones.tsv'\n",
    "\n",
    "#     xdata = conga.preprocess.read_dataset(\n",
    "\n",
    "#         file,\n",
    "\n",
    "#         '10x_h5',\n",
    "\n",
    "#         clones_file,\n",
    "\n",
    "#         allow_missing_kpca_file=True)\n",
    "\n",
    " \n",
    "\n",
    "#     xdata.obs['sample_name'] = sample_name\n",
    "\n",
    "#     xdata.obs['condition'] = 'HBV' if sample_name in HBV_pos else 'healthy'\n",
    "\n",
    "#     xdata.obs['condition_batch'] = 1 if sample_name in HBV_pos else 0\n",
    "\n",
    "#     adata_list.append(xdata)"
   ]
  },
  {
   "cell_type": "code",
   "execution_count": 14,
   "id": "5d415731-b4f8-4b02-b389-4da50c376ec7",
   "metadata": {},
   "outputs": [
    {
     "name": "stdout",
     "output_type": "stream",
     "text": [
      "-----------------------------------------\n",
      "Starting run #0\n",
      "Current clone file: /home/jovyan/conga/data/20118016/raw/results_nil/merged_clones.tsv\n",
      "Current H5 file: /home/jovyan/conga/data/20118016/raw/nil_filtered_feature_bc_matrix.h5\n",
      "reading: /home/jovyan/conga/data/20118016/raw/nil_filtered_feature_bc_matrix.h5 of type 10x_h5\n"
     ]
    },
    {
     "name": "stderr",
     "output_type": "stream",
     "text": [
      "/opt/conda/lib/python3.10/site-packages/anndata/_core/anndata.py:1899: UserWarning: Variable names are not unique. To make them unique, call `.var_names_make_unique`.\n",
      "  utils.warn_names_duplicates(\"var\")\n",
      "Traceback (most recent call last):\n",
      "  File \"/tmp/ipykernel_78515/2971089593.py\", line 24, in <module>\n",
      "    xdata = conga.preprocess.read_dataset(\n",
      "  File \"/home/jovyan/conga/conga/preprocess.py\", line 309, in read_dataset\n",
      "    assert exists(bcmap_file)\n",
      "AssertionError\n"
     ]
    },
    {
     "name": "stdout",
     "output_type": "stream",
     "text": [
      "total barcodes: 3286 (3286, 36601)\n",
      "An assertion error occurred.\n",
      "Failed at clone file: /home/jovyan/conga/data/20118016/raw/results_nil/merged_clones.tsv\n",
      "Failed at H5 file: /home/jovyan/conga/data/20118016/raw/nil_filtered_feature_bc_matrix.h5\n",
      "-----------------------------------------\n",
      "Starting run #1\n",
      "Current clone file: /home/jovyan/conga/data/20118016/raw/results_til/merged_clones.tsv\n",
      "Current H5 file: /home/jovyan/conga/data/20118016/raw/til_filtered_feature_bc_matrix.h5\n",
      "reading: /home/jovyan/conga/data/20118016/raw/til_filtered_feature_bc_matrix.h5 of type 10x_h5\n"
     ]
    },
    {
     "name": "stderr",
     "output_type": "stream",
     "text": [
      "/opt/conda/lib/python3.10/site-packages/anndata/_core/anndata.py:1899: UserWarning: Variable names are not unique. To make them unique, call `.var_names_make_unique`.\n",
      "  utils.warn_names_duplicates(\"var\")\n",
      "Traceback (most recent call last):\n",
      "  File \"/tmp/ipykernel_78515/2971089593.py\", line 24, in <module>\n",
      "    xdata = conga.preprocess.read_dataset(\n",
      "  File \"/home/jovyan/conga/conga/preprocess.py\", line 309, in read_dataset\n",
      "    assert exists(bcmap_file)\n",
      "AssertionError\n"
     ]
    },
    {
     "name": "stdout",
     "output_type": "stream",
     "text": [
      "total barcodes: 3255 (3255, 36601)\n",
      "An assertion error occurred.\n",
      "Failed at clone file: /home/jovyan/conga/data/20118016/raw/results_til/merged_clones.tsv\n",
      "Failed at H5 file: /home/jovyan/conga/data/20118016/raw/til_filtered_feature_bc_matrix.h5\n",
      "-----------------------------------------\n",
      "Starting run #2\n",
      "Current clone file: /home/jovyan/conga/data/20118016/raw/results_pbl/merged_clones.tsv\n",
      "Current H5 file: /home/jovyan/conga/data/20118016/raw/pbl_filtered_feature_bc_matrix.h5\n",
      "reading: /home/jovyan/conga/data/20118016/raw/pbl_filtered_feature_bc_matrix.h5 of type 10x_h5\n"
     ]
    },
    {
     "name": "stderr",
     "output_type": "stream",
     "text": [
      "/opt/conda/lib/python3.10/site-packages/anndata/_core/anndata.py:1899: UserWarning: Variable names are not unique. To make them unique, call `.var_names_make_unique`.\n",
      "  utils.warn_names_duplicates(\"var\")\n"
     ]
    },
    {
     "name": "stdout",
     "output_type": "stream",
     "text": [
      "total barcodes: 9875 (9875, 36601)\n",
      "An assertion error occurred.\n",
      "Failed at clone file: /home/jovyan/conga/data/20118016/raw/results_pbl/merged_clones.tsv\n",
      "Failed at H5 file: /home/jovyan/conga/data/20118016/raw/pbl_filtered_feature_bc_matrix.h5\n",
      "-----------------------------------------\n",
      "Starting run #3\n",
      "Current clone file: /home/jovyan/conga/data/20118016/raw/results_sample1/merged_clones.tsv\n",
      "Current H5 file: /home/jovyan/conga/data/20118016/raw/sample1_filtered_feature_bc_matrix.h5\n",
      "reading: /home/jovyan/conga/data/20118016/raw/sample1_filtered_feature_bc_matrix.h5 of type 10x_h5\n"
     ]
    },
    {
     "name": "stderr",
     "output_type": "stream",
     "text": [
      "Traceback (most recent call last):\n",
      "  File \"/tmp/ipykernel_78515/2971089593.py\", line 24, in <module>\n",
      "    xdata = conga.preprocess.read_dataset(\n",
      "  File \"/home/jovyan/conga/conga/preprocess.py\", line 309, in read_dataset\n",
      "    assert exists(bcmap_file)\n",
      "AssertionError\n",
      "/opt/conda/lib/python3.10/site-packages/anndata/_core/anndata.py:1899: UserWarning: Variable names are not unique. To make them unique, call `.var_names_make_unique`.\n",
      "  utils.warn_names_duplicates(\"var\")\n",
      "Traceback (most recent call last):\n",
      "  File \"/tmp/ipykernel_78515/2971089593.py\", line 24, in <module>\n",
      "    xdata = conga.preprocess.read_dataset(\n",
      "  File \"/home/jovyan/conga/conga/preprocess.py\", line 309, in read_dataset\n",
      "    assert exists(bcmap_file)\n",
      "AssertionError\n"
     ]
    },
    {
     "name": "stdout",
     "output_type": "stream",
     "text": [
      "total barcodes: 4686 (4686, 36601)\n",
      "An assertion error occurred.\n",
      "Failed at clone file: /home/jovyan/conga/data/20118016/raw/results_sample1/merged_clones.tsv\n",
      "Failed at H5 file: /home/jovyan/conga/data/20118016/raw/sample1_filtered_feature_bc_matrix.h5\n",
      "-----------------------------------------\n",
      "Starting run #4\n",
      "Current clone file: /home/jovyan/conga/data/20118016/raw/results_sample2/merged_clones.tsv\n",
      "Current H5 file: /home/jovyan/conga/data/20118016/raw/sample2_filtered_feature_bc_matrix.h5\n",
      "reading: /home/jovyan/conga/data/20118016/raw/sample2_filtered_feature_bc_matrix.h5 of type 10x_h5\n"
     ]
    },
    {
     "name": "stderr",
     "output_type": "stream",
     "text": [
      "/opt/conda/lib/python3.10/site-packages/anndata/_core/anndata.py:1899: UserWarning: Variable names are not unique. To make them unique, call `.var_names_make_unique`.\n",
      "  utils.warn_names_duplicates(\"var\")\n",
      "Traceback (most recent call last):\n",
      "  File \"/tmp/ipykernel_78515/2971089593.py\", line 24, in <module>\n",
      "    xdata = conga.preprocess.read_dataset(\n",
      "  File \"/home/jovyan/conga/conga/preprocess.py\", line 309, in read_dataset\n",
      "    assert exists(bcmap_file)\n",
      "AssertionError\n"
     ]
    },
    {
     "name": "stdout",
     "output_type": "stream",
     "text": [
      "total barcodes: 3978 (3978, 36601)\n",
      "An assertion error occurred.\n",
      "Failed at clone file: /home/jovyan/conga/data/20118016/raw/results_sample2/merged_clones.tsv\n",
      "Failed at H5 file: /home/jovyan/conga/data/20118016/raw/sample2_filtered_feature_bc_matrix.h5\n",
      "-----------------------------------------\n",
      "Starting run #5\n",
      "Current clone file: /home/jovyan/conga/data/20118016/raw/results_sample3/merged_clones.tsv\n",
      "Current H5 file: /home/jovyan/conga/data/20118016/raw/sample3_filtered_feature_bc_matrix.h5\n",
      "reading: /home/jovyan/conga/data/20118016/raw/sample3_filtered_feature_bc_matrix.h5 of type 10x_h5\n",
      "total barcodes: 4595 (4595, 36601)\n",
      "An assertion error occurred.\n",
      "Failed at clone file: /home/jovyan/conga/data/20118016/raw/results_sample3/merged_clones.tsv\n",
      "Failed at H5 file: /home/jovyan/conga/data/20118016/raw/sample3_filtered_feature_bc_matrix.h5\n"
     ]
    },
    {
     "name": "stderr",
     "output_type": "stream",
     "text": [
      "/opt/conda/lib/python3.10/site-packages/anndata/_core/anndata.py:1899: UserWarning: Variable names are not unique. To make them unique, call `.var_names_make_unique`.\n",
      "  utils.warn_names_duplicates(\"var\")\n",
      "Traceback (most recent call last):\n",
      "  File \"/tmp/ipykernel_78515/2971089593.py\", line 24, in <module>\n",
      "    xdata = conga.preprocess.read_dataset(\n",
      "  File \"/home/jovyan/conga/conga/preprocess.py\", line 309, in read_dataset\n",
      "    assert exists(bcmap_file)\n",
      "AssertionError\n"
     ]
    }
   ],
   "source": [
    "import traceback\n",
    "\n",
    "# Initialize a list to store the merged counts matrices\n",
    "adata_list = []\n",
    "\n",
    "# Ensure that the lengths of both lists are the same\n",
    "if len(clones_files) != len(h5_files):\n",
    "    raise ValueError(\"The number of clone files and H5 files must be the same.\")\n",
    "s\n",
    "for i in range(len(clones_files)):\n",
    "    current_clone_file = clones_files[i]\n",
    "    current_h5_file = h5_files[i]\n",
    "\n",
    "    print(f\"-----------------------------------------\")\n",
    "    print(f\"Starting run #{i}\")\n",
    "    print(f\"Current clone file: {current_clone_file}\")\n",
    "    print(f\"Current H5 file: {current_h5_file}\")\n",
    "\n",
    "    if not os.path.exists(current_clone_file) or not os.path.exists(current_h5_file):\n",
    "        print(f\"Error: File not found - Clone file: {current_clone_file}, H5 file: {current_h5_file}\")\n",
    "        continue\n",
    "\n",
    "    try:\n",
    "        xdata = conga.preprocess.read_dataset(\n",
    "            current_h5_file,\n",
    "            '10x_h5',\n",
    "            current_h5_file,\n",
    "            allow_missing_kpca_file=True\n",
    "        )\n",
    "        \n",
    "        # Check and make variable names unique\n",
    "        num_var_names_before = len(xdata.var_names)\n",
    "        num_unique_var_names_before = len(set(xdata.var_names))\n",
    "        xdata.var_names_make_unique()\n",
    "        num_var_names_after = len(xdata.var_names)\n",
    "        num_unique_var_names_after = len(set(xdata.var_names))\n",
    "\n",
    "        print(f\"Variable names before: {num_var_names_before}, Unique: {num_unique_var_names_before}\")\n",
    "        print(f\"Variable names after: {num_var_names_after}, Unique: {num_unique_var_names_after}\")\n",
    "            \n",
    "        adata_list.append(xdata)\n",
    "        \n",
    "    except AssertionError as error:\n",
    "        print(f\"An assertion error occurred.\")\n",
    "        print(f\"Failed at clone file: {current_clone_file}\")\n",
    "        print(f\"Failed at H5 file: {current_h5_file}\")\n",
    "        traceback.print_exc() "
   ]
  }
 ],
 "metadata": {
  "kernelspec": {
   "display_name": "Python 3 (ipykernel)",
   "language": "python",
   "name": "python3"
  },
  "language_info": {
   "codemirror_mode": {
    "name": "ipython",
    "version": 3
   },
   "file_extension": ".py",
   "mimetype": "text/x-python",
   "name": "python",
   "nbconvert_exporter": "python",
   "pygments_lexer": "ipython3",
   "version": "3.10.8"
  },
  "toc-showcode": false,
  "toc-showmarkdowntxt": false,
  "toc-showtags": false
 },
 "nbformat": 4,
 "nbformat_minor": 5
}
