{
 "cells": [
  {
   "cell_type": "code",
   "execution_count": null,
   "id": "0ecf2d4e-d978-4b17-845f-bc85fcef05df",
   "metadata": {},
   "outputs": [],
   "source": [
    "# Change the working directory\n",
    "import os\n",
    "os.chdir('/home/jovyan/conga/data/20118016')\n",
    "\n",
    "# Load rpy2\n",
    "%load_ext rpy2.ipython"
   ]
  },
  {
   "cell_type": "code",
   "execution_count": null,
   "id": "af06396a-dd78-448e-993b-c06e3b15e2ee",
   "metadata": {},
   "outputs": [],
   "source": [
    "# Run make conga clone\n",
    "# Takes in tcr_meta.csv which points to the filtered contig \n",
    "# annotations files and gives each of them a batch_id.   The resulting file is \n",
    "# merged_clones.tsv.  This script does PCA on that file.\n",
    "\n",
    "%run make_conga_clone.py"
   ]
  },
  {
   "cell_type": "code",
   "execution_count": null,
   "id": "1b4edb8f-6423-41bb-9244-361e34490413",
   "metadata": {},
   "outputs": [],
   "source": [
    "%%R\n",
    "# Load tidyverse because it's needed for the script but he doesn't load it\n",
    "library(tidyverse)\n",
    "\n",
    "# Rename the output file because it can't be overwritten and will cause an error\n",
    "file.rename(from = \"./outs/merged_counts_matrix.h5\", to = \"./outs/merged_counts_matrix_old.h5\")\n",
    "\n",
    "# Run the make conga happy seurat R script\n",
    "source('make_conga_happy_seurat.R')"
   ]
  },
  {
   "cell_type": "code",
   "execution_count": null,
   "id": "8a9aa85f-26ff-4b6a-9c3e-58989081ff26",
   "metadata": {},
   "outputs": [],
   "source": [
    "# Finally run conga\n",
    "\n",
    "!./run_conga.sh"
   ]
  }
 ],
 "metadata": {
  "kernelspec": {
   "display_name": "Python 3 (ipykernel)",
   "language": "python",
   "name": "python3"
  },
  "language_info": {
   "codemirror_mode": {
    "name": "ipython",
    "version": 3
   },
   "file_extension": ".py",
   "mimetype": "text/x-python",
   "name": "python",
   "nbconvert_exporter": "python",
   "pygments_lexer": "ipython3",
   "version": "3.10.8"
  }
 },
 "nbformat": 4,
 "nbformat_minor": 5
}
