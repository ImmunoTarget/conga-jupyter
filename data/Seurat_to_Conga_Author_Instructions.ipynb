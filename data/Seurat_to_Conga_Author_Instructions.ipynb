{
 "cells": [
  {
   "cell_type": "code",
   "execution_count": null,
   "metadata": {
    "scrolled": true
   },
   "outputs": [],
   "source": [
    "import scanpy as sc\n",
    "import numpy as np\n",
    "import anndata2ri as ad"
   ]
  },
  {
   "cell_type": "code",
   "execution_count": null,
   "metadata": {},
   "outputs": [],
   "source": [
    "# Activate the anndata2ri conversion between SingleCellExperiment and AnnData\n",
    "ad.activate()\n",
    "\n",
    "#Loading the rpy2 extension enables cell magic to be used\n",
    "#This runs R code in jupyter notebook cells\n",
    "%load_ext rpy2.ipython\n",
    "\n",
    "sc.settings.verbosity = 3\n",
    "sc.logging.print_versions()"
   ]
  },
  {
   "cell_type": "code",
   "execution_count": null,
   "metadata": {},
   "outputs": [],
   "source": [
    "%%R\n",
    "\n",
    "# IMPORTANT! Use Seurat v3.0.2 as subsequent versions are packaged with \"Reticulate\" which interferes with rpy2\n",
    "library('Seurat') \n",
    "library('base')\n",
    "library('patchwork')"
   ]
  },
  {
   "cell_type": "code",
   "execution_count": null,
   "metadata": {},
   "outputs": [],
   "source": [
    "%%R\n",
    "\n",
    "# Read the data from the HDF5 file\n",
    "hs1_counts <- Read10X_h5('conga_example_datasets_v1/vdj_v1_hs_pbmc3_5gex_filtered_gene_bc_matrices_h5.h5')\n",
    "\n",
    "# Extract the Gene Expression matrix\n",
    "gene_expression <- hs1_counts[[\"Gene Expression\"]]\n",
    "\n",
    "# Create the Seurat object with the Gene Expression modality as the default assay\n",
    "hs1 <- CreateSeuratObject(counts = gene_expression)\n",
    "\n",
    "saveRDS(hs1, 'conga_example_datasets_v1/vdj_v1_hs_V1_sc_5gex.rds')\n"
   ]
  },
  {
   "cell_type": "code",
   "execution_count": null,
   "metadata": {},
   "outputs": [],
   "source": [
    "%%R\n",
    "#read your Seurat object in\n",
    "# V1 <- readRDS('conga_example_datasets_v1/vdj_v1_hs_V1_sc_5gex.rds')\n",
    "V1 <- readRDS('conga_example_datasets_v1/vdj_v1_hs_V1_sc_5gex.rds')\n",
    "\n",
    "DimPlot(V1) | FeaturePlot( V1, \"CD3E\")\n",
    "# Keep in mind, conga will keep only the T cells with paired TCR information"
   ]
  },
  {
   "cell_type": "code",
   "execution_count": null,
   "metadata": {},
   "outputs": [],
   "source": [
    "%%R -o V1_sce\n",
    "# R-magics line above tells anndata2ri to convert the dataset to AnnData\n",
    "\n",
    "#  but first convert your object to SingleCellExperiment Format \n",
    "V1_sce <- as.SingleCellExperiment(V1)\n",
    "V1_sce"
   ]
  },
  {
   "cell_type": "code",
   "execution_count": null,
   "metadata": {},
   "outputs": [],
   "source": [
    "#write to h5ad for now. Ideally be nice to get away from strictly using the path\n",
    "V1_sce.write(\"../conga_datasets/processed/vdj_v1_hs_V1_sc_5gex.h5ad\")"
   ]
  },
  {
   "cell_type": "code",
   "execution_count": null,
   "metadata": {},
   "outputs": [],
   "source": [
    "%matplotlib inline\n",
    "\n",
    "#begin conga workflow\n",
    "import conga\n",
    "import pandas as pd\n",
    "import matplotlib.pyplot as plt\n",
    "from conga.tcrdist.make_10x_clones_file import make_10x_clones_file"
   ]
  },
  {
   "cell_type": "code",
   "execution_count": null,
   "metadata": {},
   "outputs": [],
   "source": [
    "# call the Anndata file and conga on\n",
    "gex_datafile = \"../conga_datasets/processed/vdj_v1_hs_V1_sc_5gex.h5ad\"\n",
    "gex_datatype = 'h5ad' # other possibilities right now: ['10x_mtx', 'h5ad'] (h5ad from scanpy)\n",
    "tcr_datafile = './testDrive/vdj_v1_hs_pbmc_t_filtered_contig_annotations.csv'\n",
    "organism = 'human'\n",
    "clones_file = 'tmp_hs_pbmc_clones.tsv'\n",
    "outfile_prefix = 'tmp_hs_pbmc'"
   ]
  },
  {
   "cell_type": "code",
   "execution_count": null,
   "metadata": {
    "scrolled": true
   },
   "outputs": [],
   "source": [
    "# this creates the TCRdist 'clones file'\n",
    "make_10x_clones_file( tcr_datafile, organism, clones_file )"
   ]
  },
  {
   "cell_type": "code",
   "execution_count": null,
   "metadata": {
    "scrolled": true
   },
   "outputs": [],
   "source": [
    "# this command will create another file with the kernel PCs for subsequent reading by conga\n",
    "conga.preprocess.make_tcrdist_kernel_pcs_file_from_clones_file( clones_file, organism )"
   ]
  },
  {
   "cell_type": "code",
   "execution_count": null,
   "metadata": {
    "scrolled": true
   },
   "outputs": [],
   "source": [
    "adata = conga.preprocess.read_dataset(gex_datafile, gex_datatype, clones_file )\n",
    "\n",
    "# store the organism info in adata\n",
    "adata.uns['organism'] = organism\n",
    "\n",
    "adata"
   ]
  },
  {
   "cell_type": "code",
   "execution_count": null,
   "metadata": {},
   "outputs": [],
   "source": [
    "# top 50 TCRdist kPCS \n",
    "adata.obsm['X_pca_tcr'].shape"
   ]
  },
  {
   "cell_type": "code",
   "execution_count": null,
   "metadata": {},
   "outputs": [],
   "source": [
    "# CDR3-alpha regions:\n",
    "adata.obs['cdr3a'].head(3)"
   ]
  },
  {
   "cell_type": "code",
   "execution_count": null,
   "metadata": {},
   "outputs": [],
   "source": [
    "adata = conga.preprocess.filter_and_scale( adata )"
   ]
  },
  {
   "cell_type": "code",
   "execution_count": null,
   "metadata": {},
   "outputs": [],
   "source": [
    "adata = conga.preprocess.reduce_to_single_cell_per_clone( adata )\n",
    "\n",
    "adata"
   ]
  },
  {
   "cell_type": "code",
   "execution_count": null,
   "metadata": {},
   "outputs": [],
   "source": [
    "adata = conga.preprocess.cluster_and_tsne_and_umap( adata )\n",
    "\n",
    "adata"
   ]
  },
  {
   "cell_type": "code",
   "execution_count": null,
   "metadata": {},
   "outputs": [],
   "source": [
    "plt.figure(figsize=(12,6))\n",
    "plt.subplot(121)\n",
    "xy = adata.obsm['X_gex_2d']\n",
    "clusters = np.array(adata.obs['clusters_gex'])\n",
    "cmap = plt.get_cmap('tab20')\n",
    "colors = [ cmap.colors[x] for x in clusters]\n",
    "plt.scatter( xy[:,0], xy[:,1], c=colors)\n",
    "plt.title('GEX UMAP colored by GEX clusters')\n",
    "\n",
    "plt.subplot(122)\n",
    "xy = adata.obsm['X_tcr_2d']\n",
    "clusters = np.array(adata.obs['clusters_tcr'])\n",
    "cmap = plt.get_cmap('tab20')\n",
    "colors = [ cmap.colors[x] for x in clusters]\n",
    "plt.scatter( xy[:,0], xy[:,1], c=colors)\n",
    "plt.title('TCR UMAP colored by TCR clusters');"
   ]
  },
  {
   "cell_type": "code",
   "execution_count": null,
   "metadata": {},
   "outputs": [],
   "source": [
    "# these are the nbrhood sizes, as a fraction of the entire dataset:\n",
    "nbr_fracs = [0.01, 0.1]\n",
    "\n",
    "# we use this nbrhood size for computing the nndists\n",
    "nbr_frac_for_nndists = 0.01\n",
    "\n",
    "all_nbrs, nndists_gex, nndists_tcr = conga.preprocess.calc_nbrs(\n",
    "    adata, nbr_fracs, also_calc_nndists=True, nbr_frac_for_nndists=nbr_frac_for_nndists)\n",
    "\n",
    "# stash these in obs array, they are used in a few places...                                                                                                                \n",
    "adata.obs['nndists_gex'] = nndists_gex\n",
    "adata.obs['nndists_tcr'] = nndists_tcr\n",
    "\n",
    "conga.preprocess.setup_tcr_cluster_names(adata) #stores in adata.uns"
   ]
  },
  {
   "cell_type": "code",
   "execution_count": null,
   "metadata": {},
   "outputs": [],
   "source": [
    "results = conga.correlations.run_graph_vs_graph(adata, all_nbrs)\n",
    "\n",
    "conga_scores = adata.obs['conga_scores']\n",
    "\n",
    "good_mask = ( conga_scores <= 1.0 )\n",
    "adata.obs['good_score_mask'] = good_mask\n",
    "\n",
    "print(f'found {np.sum(good_mask)} conga hits')\n",
    "\n",
    "results.sort_values('conga_score', inplace=True)\n",
    "\n",
    "results.head(3)"
   ]
  },
  {
   "cell_type": "code",
   "execution_count": null,
   "metadata": {},
   "outputs": [],
   "source": [
    "# write the results to a tsv file\n",
    "clusters_gex = np.array(adata.obs['clusters_gex'])\n",
    "clusters_tcr = np.array(adata.obs['clusters_tcr'])\n",
    "\n",
    "indices = results['clone_index']\n",
    "results['gex_cluster'] = clusters_gex[indices]\n",
    "results['tcr_cluster'] = clusters_tcr[indices]\n",
    "for tag in 'va ja cdr3a vb jb cdr3b'.split():\n",
    "    results[tag] = list(adata.obs[tag][indices])\n",
    "tsvfile = outfile_prefix+'_graph_vs_graph_hits.tsv'\n",
    "print('saving graph-vs-graph results to file:',tsvfile)\n",
    "\n",
    "results.to_csv(tsvfile, sep='\\t', index=False)"
   ]
  },
  {
   "cell_type": "code",
   "execution_count": null,
   "metadata": {},
   "outputs": [],
   "source": [
    "#put the conga hits on top\n",
    "colors = np.sqrt(np.maximum(-1*np.log10(conga_scores),0.0))\n",
    "reorder = np.argsort(colors)\n",
    "\n",
    "plt.figure(figsize=(12,6))\n",
    "plt.subplot(121)\n",
    "xy = adata.obsm['X_gex_2d']\n",
    "plt.scatter( xy[reorder,0], xy[reorder,1], c=colors[reorder], vmin=0, vmax=np.sqrt(5))\n",
    "plt.title('GEX UMAP colored by conga score')\n",
    "\n",
    "plt.subplot(122)\n",
    "xy = adata.obsm['X_tcr_2d']\n",
    "plt.scatter( xy[reorder,0], xy[reorder,1], c=colors[reorder], vmin=0, vmax=np.sqrt(5))\n",
    "plt.title('TCR UMAP colored by conga score');"
   ]
  },
  {
   "cell_type": "code",
   "execution_count": null,
   "metadata": {},
   "outputs": [],
   "source": [
    "nbrs_gex, nbrs_tcr = all_nbrs[0.1]\n",
    "\n",
    "min_cluster_size = 5\n",
    "\n",
    "# calc tcr sequence features of good cluster pairs\n",
    "good_bicluster_tcr_scores = conga.correlations.calc_good_cluster_tcr_features(\n",
    "    adata, good_mask, clusters_gex, clusters_tcr, conga.tcr_scoring.all_tcr_scorenames, verbose=False,\n",
    "    min_count=min_cluster_size)\n",
    "\n",
    "# run rank_genes on most common biclusters\n",
    "rank_genes_uns_tag = 'rank_genes_good_biclusters'\n",
    "conga.correlations.run_rank_genes_on_good_biclusters(\n",
    "    adata, good_mask, clusters_gex, clusters_tcr, min_count=min_cluster_size, key_added= rank_genes_uns_tag)\n",
    "\n",
    "gex_header_tcr_score_names = ['mhci2', 'cdr3len', 'cd8', 'nndists_tcr']\n",
    "\n",
    "logo_pngfile = outfile_prefix+'_bicluster_logos.png'\n",
    "\n",
    "conga.plotting.make_logo_plots(\n",
    "    adata, nbrs_gex, nbrs_tcr, min_cluster_size, logo_pngfile,\n",
    "    good_bicluster_tcr_scores=good_bicluster_tcr_scores,\n",
    "    rank_genes_uns_tag = rank_genes_uns_tag,\n",
    "    gex_header_tcr_score_names = gex_header_tcr_score_names )"
   ]
  },
  {
   "cell_type": "code",
   "execution_count": null,
   "metadata": {},
   "outputs": [],
   "source": [
    "pval_threshold = 1.\n",
    "results = []\n",
    "for nbr_frac in nbr_fracs:\n",
    "    nbrs_gex, nbrs_tcr = all_nbrs[nbr_frac]\n",
    "    print('finding biased GEX features for nbrhoods with size', nbr_frac, nbrs_gex.shape)\n",
    "    results.append( conga.correlations.tcr_nbrhood_rank_genes_fast( adata, nbrs_tcr, pval_threshold, verbose=False))\n",
    "    results[-1]['nbr_frac'] = nbr_frac\n",
    "\n",
    "# save the results to a file\n",
    "tsvfile = outfile_prefix+'_tcr_nbr_graph_vs_gex_features.tsv'\n",
    "print('making:', tsvfile)\n",
    "results_df = pd.concat(results, ignore_index=True)\n",
    "results_df.to_csv(tsvfile, index=False, sep='\\t')\n",
    "\n",
    "pngfile = outfile_prefix+'_tcr_nbr_graph_vs_gex_features.png'\n",
    "print('making:', pngfile)\n",
    "conga.plotting.plot_ranked_strings_on_cells(\n",
    "    adata, results_df, 'X_tcr_2d', 'clone_index', 'mwu_pvalue_adj', 1.0, 'feature', pngfile)"
   ]
  },
  {
   "cell_type": "code",
   "execution_count": null,
   "metadata": {},
   "outputs": [],
   "source": [
    "pngfile = outfile_prefix+'_tcr_nbr_graph_vs_gex_features_panels.png'\n",
    "print('making:', pngfile)\n",
    "conga.plotting.make_feature_panel_plots(adata, 'tcr', all_nbrs, results_df, pngfile, 'gex')"
   ]
  },
  {
   "cell_type": "code",
   "execution_count": null,
   "metadata": {},
   "outputs": [],
   "source": [
    "pval_threshold = 1.\n",
    "results = []\n",
    "tcr_score_names = conga.tcr_scoring.all_tcr_scorenames # the TCR features to use\n",
    "for nbr_frac in nbr_fracs:\n",
    "    nbrs_gex, nbrs_tcr = all_nbrs[nbr_frac]\n",
    "    results.append( conga.correlations.gex_nbrhood_rank_tcr_scores(\n",
    "        adata, nbrs_gex, tcr_score_names, pval_threshold, verbose=False ))\n",
    "    results[-1]['nbr_frac'] = nbr_frac\n",
    "results_df = pd.concat(results, ignore_index=True)\n",
    "\n",
    "tsvfile = outfile_prefix+'_gex_nbr_graph_vs_tcr_features.tsv'\n",
    "print('making:', tsvfile)\n",
    "results_df.to_csv(tsvfile, index=False, sep='\\t')\n",
    "\n",
    "pngfile = outfile_prefix+'_gex_nbr_graph_vs_tcr_features.png'\n",
    "print('making:', pngfile)\n",
    "\n",
    "conga.plotting.plot_ranked_strings_on_cells(\n",
    "    adata, results_df, 'X_gex_2d', 'clone_index', 'mwu_pvalue_adj', 1.0, 'feature', pngfile,\n",
    "    direction_column='ttest_stat')"
   ]
  },
  {
   "cell_type": "code",
   "execution_count": null,
   "metadata": {},
   "outputs": [],
   "source": [
    "pngfile = outfile_prefix+'_gex_nbr_graph_vs_tcr_features_panels.png'\n",
    "print('making:', pngfile)\n",
    "conga.plotting.make_feature_panel_plots(adata, 'gex', all_nbrs, results_df, pngfile, 'tcr')"
   ]
  }
 ],
 "metadata": {
  "kernelspec": {
   "display_name": "Python 3 (ipykernel)",
   "language": "python",
   "name": "python3"
  },
  "language_info": {
   "codemirror_mode": {
    "name": "ipython",
    "version": 3
   },
   "file_extension": ".py",
   "mimetype": "text/x-python",
   "name": "python",
   "nbconvert_exporter": "python",
   "pygments_lexer": "ipython3",
   "version": "3.10.8"
  }
 },
 "nbformat": 4,
 "nbformat_minor": 4
}
